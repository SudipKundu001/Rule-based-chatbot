{
 "cells": [
  {
   "cell_type": "code",
   "execution_count": 1,
   "id": "56d96908",
   "metadata": {},
   "outputs": [],
   "source": [
    "from nltk.chat.util import Chat, reflections"
   ]
  },
  {
   "cell_type": "code",
   "execution_count": 2,
   "id": "b30daa7c",
   "metadata": {},
   "outputs": [],
   "source": [
    "#Pairs is a list of patterns and responses.\n",
    "pairs = [\n",
    "    [\n",
    "        r\"(.*)my name is (.*)\",\n",
    "        [\"Hello %2, How are you today ?\",]\n",
    "    ],\n",
    "    [\n",
    "        r\"(.*)help(.*) \",\n",
    "        [\"I can help you \",]\n",
    "    ],\n",
    "     [\n",
    "        r\"(.*) your name ?\",\n",
    "        [\"My name is thecleverprogrammer, but you can just call me robot and I'm a chatbot .\",]\n",
    "    ],\n",
    "    [\n",
    "        r\"how are you (.*) ?\",\n",
    "        [\"I'm doing very well\", \"i am great !\"]\n",
    "    ],\n",
    "    [\n",
    "        r\"sorry (.*)\",\n",
    "        [\"Its alright\",\"Its OK, never mind that\",]\n",
    "    ],\n",
    "    [\n",
    "        r\"i'm (.*) (good|well|okay|ok)\",\n",
    "        [\"Nice to hear that\",\"Alright, great !\",]\n",
    "    ],\n",
    "    [\n",
    "        r\"(hi|hey|hello|hola|holla)(.*)\",\n",
    "        [\"Hello\", \"Hey there\",]\n",
    "    ],\n",
    "    [\n",
    "        r\"what (.*) want ?\",\n",
    "        [\"Make me an offer I can't refuse\",]\n",
    "        \n",
    "    ],\n",
    "    [\n",
    "        r\"(.*)created(.*)\",\n",
    "        [\"Aman Kharwal created me using Python's NLTK library \",\"top secret ;)\",]\n",
    "    ],\n",
    "    [\n",
    "        r\"(.*) (location|city) ?\",\n",
    "        ['New Delhi, India',]\n",
    "    ],\n",
    "    [\n",
    "        r\"(.*)raining in (.*)\",\n",
    "        [\"No rain in the past 4 days here in %2\",\"In %2 there is a 50% chance of rain\",]\n",
    "    ],\n",
    "    [\n",
    "        r\"how (.*) health (.*)\",\n",
    "        [\"Health is very important, but I am a computer, so I don't need to worry about my health \",]\n",
    "    ],\n",
    "    [\n",
    "        r\"(.*)(sports|game|sport)(.*)\",\n",
    "        [\"I'm a very big fan of Cricket\",]\n",
    "    ],\n",
    "    [\n",
    "        r\"who (.*) (Cricketer|Batsman)?\",\n",
    "        [\"Virat Kohli\"]\n",
    "    ],\n",
    "    [\n",
    "        r\"quit\",\n",
    "        [\"Bye for now. See you soon :) \",\"It was nice talking to you. See you soon :)\"]\n",
    "    ],\n",
    "    [\n",
    "        r\"(.*)\",\n",
    "        ['That is nice to hear']\n",
    "    ],\n",
    "]"
   ]
  },
  {
   "cell_type": "code",
   "execution_count": 3,
   "id": "59862d6e",
   "metadata": {},
   "outputs": [
    {
     "data": {
      "text/plain": [
       "[['(.*)my name is (.*)', ['Hello %2, How are you today ?']],\n",
       " ['(.*)help(.*) ', ['I can help you ']],\n",
       " ['(.*) your name ?',\n",
       "  [\"My name is thecleverprogrammer, but you can just call me robot and I'm a chatbot .\"]],\n",
       " ['how are you (.*) ?', [\"I'm doing very well\", 'i am great !']],\n",
       " ['sorry (.*)', ['Its alright', 'Its OK, never mind that']],\n",
       " [\"i'm (.*) (good|well|okay|ok)\", ['Nice to hear that', 'Alright, great !']],\n",
       " ['(hi|hey|hello|hola|holla)(.*)', ['Hello', 'Hey there']],\n",
       " ['what (.*) want ?', [\"Make me an offer I can't refuse\"]],\n",
       " ['(.*)created(.*)',\n",
       "  [\"Aman Kharwal created me using Python's NLTK library \", 'top secret ;)']],\n",
       " ['(.*) (location|city) ?', ['New Delhi, India']],\n",
       " ['(.*)raining in (.*)',\n",
       "  ['No rain in the past 4 days here in %2',\n",
       "   'In %2 there is a 50% chance of rain']],\n",
       " ['how (.*) health (.*)',\n",
       "  [\"Health is very important, but I am a computer, so I don't need to worry about my health \"]],\n",
       " ['(.*)(sports|game|sport)(.*)', [\"I'm a very big fan of Cricket\"]],\n",
       " ['who (.*) (Cricketer|Batsman)?', ['Virat Kohli']],\n",
       " ['quit',\n",
       "  ['Bye for now. See you soon :) ',\n",
       "   'It was nice talking to you. See you soon :)']],\n",
       " ['(.*)', ['That is nice to hear']]]"
      ]
     },
     "execution_count": 3,
     "metadata": {},
     "output_type": "execute_result"
    }
   ],
   "source": [
    "pairs"
   ]
  },
  {
   "cell_type": "code",
   "execution_count": 5,
   "id": "7f94d682",
   "metadata": {},
   "outputs": [
    {
     "name": "stdout",
     "output_type": "stream",
     "text": [
      "{'i am': 'you are', 'i was': 'you were', 'i': 'you', \"i'm\": 'you are', \"i'd\": 'you would', \"i've\": 'you have', \"i'll\": 'you will', 'my': 'your', 'you are': 'I am', 'you were': 'I was', \"you've\": 'I have', \"you'll\": 'I will', 'your': 'my', 'yours': 'mine', 'you': 'me', 'me': 'you'}\n"
     ]
    }
   ],
   "source": [
    "print(reflections)"
   ]
  },
  {
   "cell_type": "code",
   "execution_count": null,
   "id": "5efe6dfc",
   "metadata": {},
   "outputs": [],
   "source": [
    "\"\"\"my_dummy_reflections= {\n",
    "    \"go\"     : \"gone\",\n",
    "    \"hello\"    : \"hey there\"\n",
    "}\"\"\""
   ]
  },
  {
   "cell_type": "code",
   "execution_count": 6,
   "id": "9824711e",
   "metadata": {},
   "outputs": [
    {
     "name": "stdout",
     "output_type": "stream",
     "text": [
      "Hi, I'm thecleverprogrammer and I like to chat\n",
      "Please type lowercase English language to start a conversation. Type quit to leave \n"
     ]
    }
   ],
   "source": [
    "#default message at the start of chat\n",
    "print(\"Hi, I'm thecleverprogrammer and I like to chat\\nPlease type lowercase English language to start a conversation. Type quit to leave \")\n",
    "#Create Chat Bot\n",
    "chat = Chat(pairs, reflections)"
   ]
  },
  {
   "cell_type": "code",
   "execution_count": 8,
   "id": "f870c21c",
   "metadata": {},
   "outputs": [
    {
     "name": "stdout",
     "output_type": "stream",
     "text": [
      ">hi\n",
      "Hello\n",
      ">what is your name?\n",
      "My name is thecleverprogrammer, but you can just call me robot and I'm a chatbot .\n",
      ">who created you?\n",
      "Aman Kharwal created me using Python's NLTK library \n",
      ">will you help me?\n",
      "I can help you \n",
      ">what you think about the last cricket world cup match?\n",
      "That is nice to hear\n",
      ">tell me a joke\n",
      "That is nice to hear\n",
      ">bye\n",
      "That is nice to hear\n",
      ">quit\n",
      "It was nice talking to you. See you soon :)\n"
     ]
    }
   ],
   "source": [
    "#Start conversation\n",
    "chat.converse()"
   ]
  },
  {
   "cell_type": "code",
   "execution_count": null,
   "id": "18f5da1f",
   "metadata": {},
   "outputs": [],
   "source": []
  }
 ],
 "metadata": {
  "kernelspec": {
   "display_name": "Python 3 (ipykernel)",
   "language": "python",
   "name": "python3"
  },
  "language_info": {
   "codemirror_mode": {
    "name": "ipython",
    "version": 3
   },
   "file_extension": ".py",
   "mimetype": "text/x-python",
   "name": "python",
   "nbconvert_exporter": "python",
   "pygments_lexer": "ipython3",
   "version": "3.10.9"
  }
 },
 "nbformat": 4,
 "nbformat_minor": 5
}
